{
 "cells": [
  {
   "cell_type": "code",
   "execution_count": 1,
   "metadata": {
    "collapsed": false,
    "deletable": true,
    "editable": true
   },
   "outputs": [
    {
     "name": "stderr",
     "output_type": "stream",
     "text": [
      "/usr/local/lib/python3.6/site-packages/h5py/__init__.py:34: FutureWarning: Conversion of the second argument of issubdtype from `float` to `np.floating` is deprecated. In future, it will be treated as `np.float64 == np.dtype(float).type`.\n",
      "  from ._conv import register_converters as _register_converters\n"
     ]
    }
   ],
   "source": [
    "from pinpoint import Tracker, VideoReader\n",
    "import pinpoint.utils as utils\n",
    "import matplotlib.pyplot as plt\n",
    "import time\n",
    "import h5py\n",
    "import glob\n",
    "import cv2\n",
    "import numpy as np"
   ]
  },
  {
   "cell_type": "code",
   "execution_count": 2,
   "metadata": {
    "collapsed": false,
    "deletable": true,
    "editable": true
   },
   "outputs": [
    {
     "data": {
      "text/plain": [
       "['/Volumes/Samsung_T3/Work/Videos/day1_fish10/000000.mp4',\n",
       " '/Volumes/Samsung_T3/Work/Videos/day1_fish10/000001.mp4',\n",
       " '/Volumes/Samsung_T3/Work/Videos/day1_fish10/000002.mp4',\n",
       " '/Volumes/Samsung_T3/Work/Videos/day1_fish10/000003.mp4',\n",
       " '/Volumes/Samsung_T3/Work/Videos/day1_fish10/000004.mp4',\n",
       " '/Volumes/Samsung_T3/Work/Videos/day1_fish10/000005.mp4',\n",
       " '/Volumes/Samsung_T3/Work/Videos/day1_fish10/000006.mp4',\n",
       " '/Volumes/Samsung_T3/Work/Videos/day1_fish10/000007.mp4',\n",
       " '/Volumes/Samsung_T3/Work/Videos/day1_fish10/000008.mp4',\n",
       " '/Volumes/Samsung_T3/Work/Videos/day1_fish10/000009.mp4',\n",
       " '/Volumes/Samsung_T3/Work/Videos/day1_fish10/000010.mp4',\n",
       " '/Volumes/Samsung_T3/Work/Videos/day1_fish10/000011.mp4',\n",
       " '/Volumes/Samsung_T3/Work/Videos/day1_fish10/000012.mp4',\n",
       " '/Volumes/Samsung_T3/Work/Videos/day1_fish10/000013.mp4',\n",
       " '/Volumes/Samsung_T3/Work/Videos/day1_fish10/000014.mp4',\n",
       " '/Volumes/Samsung_T3/Work/Videos/day1_fish10/000015.mp4',\n",
       " '/Volumes/Samsung_T3/Work/Videos/day1_fish10/000016.mp4',\n",
       " '/Volumes/Samsung_T3/Work/Videos/day1_fish10/000017.mp4',\n",
       " '/Volumes/Samsung_T3/Work/Videos/day1_fish10/000018.mp4',\n",
       " '/Volumes/Samsung_T3/Work/Videos/day1_fish10/000019.mp4',\n",
       " '/Volumes/Samsung_T3/Work/Videos/day1_fish10/000020.mp4',\n",
       " '/Volumes/Samsung_T3/Work/Videos/day1_fish10/000021.mp4',\n",
       " '/Volumes/Samsung_T3/Work/Videos/day1_fish10/000022.mp4',\n",
       " '/Volumes/Samsung_T3/Work/Videos/day1_fish10/000023.mp4',\n",
       " '/Volumes/Samsung_T3/Work/Videos/day1_fish10/000024.mp4',\n",
       " '/Volumes/Samsung_T3/Work/Videos/day1_fish10/000025.mp4',\n",
       " '/Volumes/Samsung_T3/Work/Videos/day1_fish10/000026.mp4',\n",
       " '/Volumes/Samsung_T3/Work/Videos/day1_fish10/000027.mp4',\n",
       " '/Volumes/Samsung_T3/Work/Videos/day1_fish10/000028.mp4',\n",
       " '/Volumes/Samsung_T3/Work/Videos/day1_fish10/000029.mp4',\n",
       " '/Volumes/Samsung_T3/Work/Videos/day1_fish10/000030.mp4',\n",
       " '/Volumes/Samsung_T3/Work/Videos/day1_fish10/000031.mp4',\n",
       " '/Volumes/Samsung_T3/Work/Videos/day1_fish10/000032.mp4',\n",
       " '/Volumes/Samsung_T3/Work/Videos/day1_fish10/000033.mp4',\n",
       " '/Volumes/Samsung_T3/Work/Videos/day1_fish10/000034.mp4',\n",
       " '/Volumes/Samsung_T3/Work/Videos/day1_fish10/000035.mp4',\n",
       " '/Volumes/Samsung_T3/Work/Videos/day1_fish10/000036.mp4',\n",
       " '/Volumes/Samsung_T3/Work/Videos/day1_fish10/000037.mp4',\n",
       " '/Volumes/Samsung_T3/Work/Videos/day1_fish10/000038.mp4',\n",
       " '/Volumes/Samsung_T3/Work/Videos/day1_fish10/000039.mp4',\n",
       " '/Volumes/Samsung_T3/Work/Videos/day1_fish10/000040.mp4',\n",
       " '/Volumes/Samsung_T3/Work/Videos/day1_fish10/000041.mp4',\n",
       " '/Volumes/Samsung_T3/Work/Videos/day1_fish10/000042.mp4',\n",
       " '/Volumes/Samsung_T3/Work/Videos/day1_fish10/000043.mp4',\n",
       " '/Volumes/Samsung_T3/Work/Videos/day1_fish10/000044.mp4',\n",
       " '/Volumes/Samsung_T3/Work/Videos/day1_fish10/000045.mp4',\n",
       " '/Volumes/Samsung_T3/Work/Videos/day1_fish10/000046.mp4',\n",
       " '/Volumes/Samsung_T3/Work/Videos/day1_fish10/000047.mp4',\n",
       " '/Volumes/Samsung_T3/Work/Videos/day1_fish10/000048.mp4',\n",
       " '/Volumes/Samsung_T3/Work/Videos/day1_fish10/000049.mp4',\n",
       " '/Volumes/Samsung_T3/Work/Videos/day1_fish10/000050.mp4',\n",
       " '/Volumes/Samsung_T3/Work/Videos/day1_fish10/000051.mp4',\n",
       " '/Volumes/Samsung_T3/Work/Videos/day1_fish10/000052.mp4',\n",
       " '/Volumes/Samsung_T3/Work/Videos/day1_fish10/000053.mp4',\n",
       " '/Volumes/Samsung_T3/Work/Videos/day1_fish10/000054.mp4',\n",
       " '/Volumes/Samsung_T3/Work/Videos/day1_fish10/000055.mp4',\n",
       " '/Volumes/Samsung_T3/Work/Videos/day1_fish10/000056.mp4',\n",
       " '/Volumes/Samsung_T3/Work/Videos/day1_fish10/000057.mp4',\n",
       " '/Volumes/Samsung_T3/Work/Videos/day1_fish10/000058.mp4',\n",
       " '/Volumes/Samsung_T3/Work/Videos/day1_fish10/000059.mp4',\n",
       " '/Volumes/Samsung_T3/Work/Videos/day1_fish10/000060.mp4',\n",
       " '/Volumes/Samsung_T3/Work/Videos/day1_fish10/000061.mp4',\n",
       " '/Volumes/Samsung_T3/Work/Videos/day1_fish10/000062.mp4',\n",
       " '/Volumes/Samsung_T3/Work/Videos/day1_fish10/000063.mp4',\n",
       " '/Volumes/Samsung_T3/Work/Videos/day1_fish10/000064.mp4',\n",
       " '/Volumes/Samsung_T3/Work/Videos/day1_fish10/000065.mp4',\n",
       " '/Volumes/Samsung_T3/Work/Videos/day1_fish10/000066.mp4',\n",
       " '/Volumes/Samsung_T3/Work/Videos/day1_fish10/000067.mp4',\n",
       " '/Volumes/Samsung_T3/Work/Videos/day1_fish10/000068.mp4',\n",
       " '/Volumes/Samsung_T3/Work/Videos/day1_fish10/000069.mp4',\n",
       " '/Volumes/Samsung_T3/Work/Videos/day1_fish10/000070.mp4',\n",
       " '/Volumes/Samsung_T3/Work/Videos/day1_fish10/000071.mp4',\n",
       " '/Volumes/Samsung_T3/Work/Videos/day1_fish10/000072.mp4',\n",
       " '/Volumes/Samsung_T3/Work/Videos/day1_fish10/000073.mp4',\n",
       " '/Volumes/Samsung_T3/Work/Videos/day1_fish10/000074.mp4',\n",
       " '/Volumes/Samsung_T3/Work/Videos/day1_fish10/000075.mp4',\n",
       " '/Volumes/Samsung_T3/Work/Videos/day1_fish10/000076.mp4',\n",
       " '/Volumes/Samsung_T3/Work/Videos/day1_fish10/000077.mp4',\n",
       " '/Volumes/Samsung_T3/Work/Videos/day1_fish10/000078.mp4',\n",
       " '/Volumes/Samsung_T3/Work/Videos/day1_fish10/000079.mp4',\n",
       " '/Volumes/Samsung_T3/Work/Videos/day1_fish10/000080.mp4',\n",
       " '/Volumes/Samsung_T3/Work/Videos/day1_fish10/000081.mp4',\n",
       " '/Volumes/Samsung_T3/Work/Videos/day1_fish10/000082.mp4',\n",
       " '/Volumes/Samsung_T3/Work/Videos/day1_fish10/000083.mp4',\n",
       " '/Volumes/Samsung_T3/Work/Videos/day1_fish10/000084.mp4',\n",
       " '/Volumes/Samsung_T3/Work/Videos/day1_fish10/000085.mp4',\n",
       " '/Volumes/Samsung_T3/Work/Videos/day1_fish10/000086.mp4',\n",
       " '/Volumes/Samsung_T3/Work/Videos/day1_fish10/000087.mp4',\n",
       " '/Volumes/Samsung_T3/Work/Videos/day1_fish10/000088.mp4',\n",
       " '/Volumes/Samsung_T3/Work/Videos/day1_fish10/000089.mp4',\n",
       " '/Volumes/Samsung_T3/Work/Videos/day1_fish10/000090.mp4',\n",
       " '/Volumes/Samsung_T3/Work/Videos/day1_fish10/000091.mp4',\n",
       " '/Volumes/Samsung_T3/Work/Videos/day1_fish10/000092.mp4']"
      ]
     },
     "execution_count": 2,
     "metadata": {},
     "output_type": "execute_result"
    }
   ],
   "source": [
    "videos = sorted(glob.glob(\"/Volumes/Samsung_T3/Work/Videos/day1_fish10/*.mp4\"))\n",
    "videos"
   ]
  },
  {
   "cell_type": "code",
   "execution_count": null,
   "metadata": {
    "collapsed": false,
    "deletable": true,
    "editable": true
   },
   "outputs": [
    {
     "name": "stdout",
     "output_type": "stream",
     "text": [
      "video 30tracked!\n",
      "video 31tracked!\n",
      "video 32tracked!\n",
      "video 33tracked!\n"
     ]
    }
   ],
   "source": [
    "for i in range(30,50):\n",
    "    tracker = Tracker(source=videos[i],\n",
    "                  block_size=21,\n",
    "                  offset=-5,\n",
    "                  distance_threshold=20,\n",
    "                  area_range=(100,600),\n",
    "                  tolerance=0.1,\n",
    "                  channel='green',\n",
    "                  var_thresh=200,\n",
    "                  resize=2)\n",
    "    \n",
    "    tracker.load_dict('/Users/viveksridhar/Documents/Code/Python/pinpoint/barcodes/3x3_2bit/master_list.pkl')\n",
    "    \n",
    "    name = 'day1_fish10_' + videos[i][44:50]\n",
    "\n",
    "    t0 = time.time()\n",
    "    fetch_dict = tracker.track(name + '.h5',batch_size=200, n_jobs=-1)\n",
    "    print('video ' + str(i) + 'tracked!')"
   ]
  },
  {
   "cell_type": "code",
   "execution_count": 34,
   "metadata": {
    "collapsed": false,
    "deletable": true,
    "editable": true
   },
   "outputs": [],
   "source": [
    "f = h5py.File(name + '.h5', 'r')"
   ]
  },
  {
   "cell_type": "code",
   "execution_count": 35,
   "metadata": {
    "collapsed": false,
    "deletable": true,
    "editable": true
   },
   "outputs": [],
   "source": [
    "frame_idx = f['data/frame_idx'].value\n",
    "corners = f['data/corners'].value\n",
    "identity = f['data/identity'].value\n",
    "distances = f['data/distances'].value"
   ]
  },
  {
   "cell_type": "code",
   "execution_count": 36,
   "metadata": {
    "collapsed": false,
    "deletable": true,
    "editable": true
   },
   "outputs": [],
   "source": [
    "fps = f.attrs['fps']\n",
    "codec = f.attrs['codec']\n",
    "height = f.attrs['height']\n",
    "width = f.attrs['width']\n",
    "total_frames = f.attrs['total_frames']"
   ]
  },
  {
   "cell_type": "code",
   "execution_count": 37,
   "metadata": {
    "collapsed": false,
    "deletable": true,
    "editable": true
   },
   "outputs": [],
   "source": [
    "f.close()"
   ]
  },
  {
   "cell_type": "code",
   "execution_count": 38,
   "metadata": {
    "collapsed": false,
    "deletable": true,
    "editable": true
   },
   "outputs": [
    {
     "data": {
      "text/plain": [
       "array([ 2,  4,  5,  8, 15, 16, 17, 22, 25, 27, 28], dtype=int32)"
      ]
     },
     "execution_count": 38,
     "metadata": {},
     "output_type": "execute_result"
    }
   ],
   "source": [
    "np.unique(identity[distances < 1])"
   ]
  },
  {
   "cell_type": "code",
   "execution_count": 39,
   "metadata": {
    "collapsed": false,
    "deletable": true,
    "editable": true
   },
   "outputs": [
    {
     "data": {
      "image/png": "[encoded data removed]",
      "text/plain": [
       "<matplotlib.figure.Figure at 0x134479208>"
      ]
     },
     "metadata": {},
     "output_type": "display_data"
    }
   ],
   "source": [
    "plt.hist(distances, bins=10)\n",
    "plt.show()"
   ]
  }
 ],
 "metadata": {
  "kernelspec": {
   "display_name": "Python 3",
   "language": "python",
   "name": "python3"
  },
  "language_info": {
   "codemirror_mode": {
    "name": "ipython",
    "version": 3
   },
   "file_extension": ".py",
   "mimetype": "text/x-python",
   "name": "python",
   "nbconvert_exporter": "python",
   "pygments_lexer": "ipython3",
   "version": "3.6.4"
  }
 },
 "nbformat": 4,
 "nbformat_minor": 2
}
