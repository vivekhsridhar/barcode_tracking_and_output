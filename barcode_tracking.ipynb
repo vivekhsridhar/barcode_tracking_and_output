{
 "cells": [
  {
   "cell_type": "code",
   "execution_count": 16,
   "metadata": {},
   "outputs": [],
   "source": [
    "from pinpoint import Tracker, VideoReader\n",
    "import pinpoint.utils as utils\n",
    "import matplotlib.pyplot as plt\n",
    "import time\n",
    "import h5py\n",
    "import glob\n",
    "import cv2\n",
    "import numpy as np"
   ]
  },
  {
   "cell_type": "code",
   "execution_count": 18,
   "metadata": {},
   "outputs": [
    {
     "data": {
      "text/plain": [
       "['/home/user/Videos/day1_fish13/000002.mp4',\n",
       " '/home/user/Videos/day1_fish13/000003.mp4',\n",
       " '/home/user/Videos/day1_fish13/000004.mp4',\n",
       " '/home/user/Videos/day1_fish13/000005.mp4',\n",
       " '/home/user/Videos/day1_fish13/000012.mp4',\n",
       " '/home/user/Videos/day1_fish13/000013.mp4',\n",
       " '/home/user/Videos/day1_fish13/000014.mp4',\n",
       " '/home/user/Videos/day1_fish13/000015.mp4',\n",
       " '/home/user/Videos/day1_fish13/000020.mp4',\n",
       " '/home/user/Videos/day1_fish13/000021.mp4',\n",
       " '/home/user/Videos/day1_fish13/000023.mp4',\n",
       " '/home/user/Videos/day1_fish13/000024.mp4',\n",
       " '/home/user/Videos/day1_fish13/000026.mp4',\n",
       " '/home/user/Videos/day1_fish13/000027.mp4',\n",
       " '/home/user/Videos/day1_fish13/000028.mp4',\n",
       " '/home/user/Videos/day1_fish13/000029.mp4',\n",
       " '/home/user/Videos/day1_fish13/000030.mp4',\n",
       " '/home/user/Videos/day1_fish13/000031.mp4',\n",
       " '/home/user/Videos/day1_fish13/000036.mp4',\n",
       " '/home/user/Videos/day1_fish13/000037.mp4',\n",
       " '/home/user/Videos/day1_fish13/000038.mp4',\n",
       " '/home/user/Videos/day1_fish13/000039.mp4',\n",
       " '/home/user/Videos/day1_fish13/000042.mp4',\n",
       " '/home/user/Videos/day1_fish13/000043.mp4',\n",
       " '/home/user/Videos/day1_fish13/000044.mp4',\n",
       " '/home/user/Videos/day1_fish13/000045.mp4',\n",
       " '/home/user/Videos/day1_fish13/000052.mp4',\n",
       " '/home/user/Videos/day1_fish13/000053.mp4',\n",
       " '/home/user/Videos/day1_fish13/000054.mp4',\n",
       " '/home/user/Videos/day1_fish13/000055.mp4',\n",
       " '/home/user/Videos/day1_fish13/000056.mp4',\n",
       " '/home/user/Videos/day1_fish13/000058.mp4',\n",
       " '/home/user/Videos/day1_fish13/000060.mp4',\n",
       " '/home/user/Videos/day1_fish13/000061.mp4',\n",
       " '/home/user/Videos/day1_fish13/000066.mp4',\n",
       " '/home/user/Videos/day1_fish13/000067.mp4',\n",
       " '/home/user/Videos/day1_fish13/000068.mp4',\n",
       " '/home/user/Videos/day1_fish13/000069.mp4',\n",
       " '/home/user/Videos/day1_fish13/000070.mp4',\n",
       " '/home/user/Videos/day1_fish13/000071.mp4',\n",
       " '/home/user/Videos/day1_fish13/000076.mp4',\n",
       " '/home/user/Videos/day1_fish13/000077.mp4',\n",
       " '/home/user/Videos/day1_fish13/000078.mp4',\n",
       " '/home/user/Videos/day1_fish13/000079.mp4',\n",
       " '/home/user/Videos/day1_fish13/000082.mp4',\n",
       " '/home/user/Videos/day1_fish13/000083.mp4',\n",
       " '/home/user/Videos/day1_fish13/000084.mp4',\n",
       " '/home/user/Videos/day1_fish13/000085.mp4',\n",
       " '/home/user/Videos/day1_fish13/000087.mp4',\n",
       " '/home/user/Videos/day1_fish13/000089.mp4',\n",
       " '/home/user/Videos/day1_fish13/000092.mp4',\n",
       " '/home/user/Videos/day1_fish13/000093.mp4',\n",
       " '/home/user/Videos/day1_fish13/000094.mp4']"
      ]
     },
     "execution_count": 18,
     "metadata": {},
     "output_type": "execute_result"
    }
   ],
   "source": [
    "videos = sorted(glob.glob(\"/home/user/Videos/day1_fish13/*.mp4\"))\n",
    "videos"
   ]
  },
  {
   "cell_type": "code",
   "execution_count": 15,
   "metadata": {},
   "outputs": [
    {
     "name": "stdout",
     "output_type": "stream",
     "text": [
      "video 0tracked!\n",
      "video 1tracked!\n",
      "video 2tracked!\n",
      "video 3tracked!\n",
      "video 4tracked!\n",
      "video 5tracked!\n",
      "video 6tracked!\n",
      "video 7tracked!\n",
      "video 8tracked!\n",
      "video 9tracked!\n",
      "video 10tracked!\n",
      "video 11tracked!\n",
      "video 12tracked!\n",
      "video 13tracked!\n",
      "video 14tracked!\n",
      "video 15tracked!\n",
      "video 16tracked!\n",
      "video 17tracked!\n",
      "video 18tracked!\n",
      "video 19tracked!\n",
      "video 20tracked!\n",
      "video 21tracked!\n",
      "video 22tracked!\n",
      "video 23tracked!\n",
      "video 24tracked!\n",
      "video 25tracked!\n",
      "video 26tracked!\n",
      "video 27tracked!\n",
      "video 28tracked!\n",
      "video 29tracked!\n",
      "video 30tracked!\n",
      "video 31tracked!\n",
      "video 32tracked!\n",
      "video 33tracked!\n",
      "video 34tracked!\n",
      "video 35tracked!\n",
      "video 36tracked!\n",
      "video 37tracked!\n",
      "video 38tracked!\n",
      "video 39tracked!\n",
      "video 40tracked!\n",
      "video 41tracked!\n",
      "video 42tracked!\n",
      "video 43tracked!\n",
      "video 44tracked!\n",
      "video 45tracked!\n",
      "video 46tracked!\n",
      "video 47tracked!\n",
      "video 48tracked!\n",
      "video 49tracked!\n",
      "video 50tracked!\n",
      "video 51tracked!\n",
      "video 52tracked!\n",
      "video 53tracked!\n",
      "video 54tracked!\n",
      "video 55tracked!\n",
      "video 56tracked!\n",
      "video 57tracked!\n",
      "video 58tracked!\n",
      "video 59tracked!\n",
      "video 60tracked!\n",
      "video 61tracked!\n",
      "video 62tracked!\n",
      "video 63tracked!\n",
      "video 64tracked!\n",
      "video 65tracked!\n",
      "video 66tracked!\n",
      "video 67tracked!\n",
      "video 68tracked!\n",
      "video 69tracked!\n",
      "video 70tracked!\n",
      "video 71tracked!\n",
      "video 72tracked!\n",
      "video 73tracked!\n",
      "video 74tracked!\n",
      "video 75tracked!\n",
      "video 76tracked!\n",
      "video 77tracked!\n",
      "video 78tracked!\n",
      "video 79tracked!\n",
      "video 80tracked!\n",
      "video 81tracked!\n",
      "video 82tracked!\n",
      "video 83tracked!\n",
      "video 84tracked!\n",
      "video 85tracked!\n",
      "video 86tracked!\n",
      "video 87tracked!\n",
      "video 88tracked!\n",
      "video 89tracked!\n",
      "video 90tracked!\n",
      "video 91tracked!\n",
      "video 92tracked!\n"
     ]
    }
   ],
   "source": [
    "for i in range(0,93):\n",
    "    tracker = Tracker(source=videos[i],\n",
    "                  block_size=21,\n",
    "                  offset=-5,\n",
    "                  distance_threshold=20,\n",
    "                  area_range=(100,600),\n",
    "                  tolerance=0.1,\n",
    "                  channel='green',\n",
    "                  var_thresh=200,\n",
    "                  resize=2)\n",
    "    \n",
    "    tracker.load_dict('/home/user/Documents/Vivek/pinpoint/barcodes/3x3_2bit/master_list.pkl')\n",
    "    \n",
    "    name = 'day1_fish13_' + videos[i][30:36]\n",
    "\n",
    "    t0 = time.time()\n",
    "    fetch_dict = tracker.track(name + '.h5',batch_size=200, n_jobs=-1)\n",
    "    print('video ' + str(i) + 'tracked!')"
   ]
  },
  {
   "cell_type": "code",
   "execution_count": 34,
   "metadata": {},
   "outputs": [],
   "source": [
    "f = h5py.File(name + '.h5', 'r')"
   ]
  },
  {
   "cell_type": "code",
   "execution_count": 35,
   "metadata": {},
   "outputs": [],
   "source": [
    "frame_idx = f['data/frame_idx'].value\n",
    "corners = f['data/corners'].value\n",
    "identity = f['data/identity'].value\n",
    "distances = f['data/distances'].value"
   ]
  },
  {
   "cell_type": "code",
   "execution_count": 36,
   "metadata": {},
   "outputs": [],
   "source": [
    "fps = f.attrs['fps']\n",
    "codec = f.attrs['codec']\n",
    "height = f.attrs['height']\n",
    "width = f.attrs['width']\n",
    "total_frames = f.attrs['total_frames']"
   ]
  },
  {
   "cell_type": "code",
   "execution_count": 37,
   "metadata": {},
   "outputs": [],
   "source": [
    "f.close()"
   ]
  },
  {
   "cell_type": "code",
   "execution_count": 38,
   "metadata": {},
   "outputs": [
    {
     "data": {
      "text/plain": [
       "array([ 2,  4,  5,  8, 15, 16, 17, 22, 25, 27, 28], dtype=int32)"
      ]
     },
     "execution_count": 38,
     "metadata": {},
     "output_type": "execute_result"
    }
   ],
   "source": [
    "np.unique(identity[distances < 1])"
   ]
  },
  {
   "cell_type": "code",
   "execution_count": 39,
   "metadata": {
    "scrolled": true
   },
   "outputs": [
    {
     "data": {
      "image/png": "[encoded data removed]",
      "text/plain": [
       "<matplotlib.figure.Figure at 0x134479208>"
      ]
     },
     "metadata": {},
     "output_type": "display_data"
    }
   ],
   "source": [
    "plt.hist(distances, bins=10)\n",
    "plt.show()"
   ]
  },
  {
   "cell_type": "code",
   "execution_count": 3,
   "metadata": {},
   "outputs": [
    {
     "data": {
      "text/plain": [
       "'000001'"
      ]
     },
     "execution_count": 3,
     "metadata": {},
     "output_type": "execute_result"
    }
   ],
   "source": [
    "videos[1][30:36]"
   ]
  },
  {
   "cell_type": "code",
   "execution_count": null,
   "metadata": {},
   "outputs": [],
   "source": []
  }
 ],
 "metadata": {
  "kernelspec": {
   "display_name": "Python 3",
   "language": "python",
   "name": "python3"
  },
  "language_info": {
   "codemirror_mode": {
    "name": "ipython",
    "version": 3
   },
   "file_extension": ".py",
   "mimetype": "text/x-python",
   "name": "python",
   "nbconvert_exporter": "python",
   "pygments_lexer": "ipython3",
   "version": "3.6.3"
  }
 },
 "nbformat": 4,
 "nbformat_minor": 2
}
